{
  "nbformat": 4,
  "nbformat_minor": 0,
  "metadata": {
    "colab": {
      "name": "octave5.2.0_deploy.ipynb",
      "provenance": [],
      "authorship_tag": "ABX9TyM+iSswJYBrqY75XffGBvUC",
      "include_colab_link": true
    },
    "kernelspec": {
      "name": "python3",
      "display_name": "Python 3"
    }
  },
  "cells": [
    {
      "cell_type": "markdown",
      "metadata": {
        "id": "view-in-github",
        "colab_type": "text"
      },
      "source": [
        "<a href=\"https://colab.research.google.com/github/locastre/octave-colab/blob/master/octave5_2_0_deploy.ipynb\" target=\"_parent\"><img src=\"https://colab.research.google.com/assets/colab-badge.svg\" alt=\"Open In Colab\"/></a>"
      ]
    },
    {
      "cell_type": "code",
      "metadata": {
        "id": "OEBQNGd83zJJ",
        "colab_type": "code",
        "colab": {}
      },
      "source": [
        "! apt-get update\n",
        "! apt-get install gcc g++ gfortran make libblas-dev liblapack-dev libpcre3-dev libarpack2-dev libcurl4-gnutls-dev epstool libfftw3-dev transfig libfltk1.3-dev libfontconfig1-dev libfreetype6-dev libgl2ps-dev libglpk-dev libreadline-dev gnuplot-x11 libgraphicsmagick++1-dev libhdf5-serial-dev openjdk-8-jdk libsndfile1-dev llvm-dev lpr texinfo libgl1-mesa-dev libosmesa6-dev pstoedit portaudio19-dev libqhull-dev libqrupdate-dev libqscintilla2-dev libsuitesparse-dev texlive texlive-generic-recommended libxft-dev zlib1g-dev autoconf automake bison flex gperf gzip icoutils librsvg2-bin libtool perl rsync tar qtbase5-dev qttools5-dev qttools5-dev-tools libqscintilla2-qt5-dev wget git libsundials-dev gnuplot x11-apps"
      ],
      "execution_count": null,
      "outputs": []
    },
    {
      "cell_type": "code",
      "metadata": {
        "id": "aErIFg4s4xiJ",
        "colab_type": "code",
        "colab": {}
      },
      "source": [
        "! pip install octave_kernel\n",
        "! pip install oct2py"
      ],
      "execution_count": null,
      "outputs": []
    },
    {
      "cell_type": "code",
      "metadata": {
        "id": "v-CPiKaWQiQv",
        "colab_type": "code",
        "colab": {}
      },
      "source": [
        "! wget https://github.com/locastre/octave-colab/raw/master/octavecolab.tar.gz"
      ],
      "execution_count": null,
      "outputs": []
    },
    {
      "cell_type": "code",
      "metadata": {
        "id": "6g_uql674fs5",
        "colab_type": "code",
        "colab": {}
      },
      "source": [
        "! tar xzvf octavecolab.tar.gz"
      ],
      "execution_count": null,
      "outputs": []
    },
    {
      "cell_type": "code",
      "metadata": {
        "id": "mTCzS9sB4qob",
        "colab_type": "code",
        "colab": {}
      },
      "source": [
        "import os\n",
        "os.environ['OCTAVE_EXECUTABLE'] = '/content/octavecolab/bin/octave-cli'\n",
        "os.environ['PATH'] = '/content/octavecolab/bin:' + os.environ['PATH']"
      ],
      "execution_count": null,
      "outputs": []
    },
    {
      "cell_type": "code",
      "metadata": {
        "id": "9lEXU-MhUazK",
        "colab_type": "code",
        "colab": {}
      },
      "source": [
        "import oct2py"
      ],
      "execution_count": null,
      "outputs": []
    },
    {
      "cell_type": "code",
      "metadata": {
        "id": "g616ajzfUrXZ",
        "colab_type": "code",
        "colab": {}
      },
      "source": [
        "! octave --eval \"uname()\""
      ],
      "execution_count": null,
      "outputs": []
    },
    {
      "cell_type": "code",
      "metadata": {
        "id": "JptYmSWyU1PT",
        "colab_type": "code",
        "colab": {}
      },
      "source": [
        ""
      ],
      "execution_count": null,
      "outputs": []
    }
  ]
}