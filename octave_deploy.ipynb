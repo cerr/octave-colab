{
  "nbformat": 4,
  "nbformat_minor": 0,
  "metadata": {
    "colab": {
      "name": "octave_deploy.ipynb",
      "provenance": [],
      "collapsed_sections": [],
      "authorship_tag": "ABX9TyMP4MQ+u1WvS9pQVkh9K/ha",
      "include_colab_link": true
    },
    "kernelspec": {
      "name": "python3",
      "display_name": "Python 3"
    },
    "language_info": {
      "name": "python"
    },
    "accelerator": "GPU"
  },
  "cells": [
    {
      "cell_type": "markdown",
      "metadata": {
        "id": "view-in-github",
        "colab_type": "text"
      },
      "source": [
        "<a href=\"https://colab.research.google.com/github/cerr/octave-colab/blob/master/octave_deploy.ipynb\" target=\"_parent\"><img src=\"https://colab.research.google.com/assets/colab-badge.svg\" alt=\"Open In Colab\"/></a>"
      ]
    },
    {
      "cell_type": "markdown",
      "metadata": {
        "id": "by-Fa16jsFL7"
      },
      "source": [
        "# CERRx @ colab"
      ]
    },
    {
      "cell_type": "markdown",
      "metadata": {
        "id": "8cxydp--X9w1"
      },
      "source": [
        "### Download latest Octave software and set up dependencies\n",
        "CERR, GNU Octave, and oct2py"
      ]
    },
    {
      "cell_type": "code",
      "metadata": {
        "id": "7H-Kq-A6aUQB"
      },
      "source": [
        "import os, subprocess, urllib.request, json\n",
        "from glob import glob"
      ],
      "execution_count": 1,
      "outputs": []
    },
    {
      "cell_type": "code",
      "metadata": {
        "id": "9vIprC1MeVkI"
      },
      "source": [
        "%%capture\n",
        "! apt-get update\n",
        "! apt-get install libgraphicsmagick++1-dev libsuitesparse-dev libqrupdate1 libfftw3-3 gnuplot zsh\n",
        "! pip install oct2py octave_kernel"
      ],
      "execution_count": 2,
      "outputs": []
    },
    {
      "cell_type": "code",
      "metadata": {
        "id": "bA41jNJjZjF-",
        "outputId": "b03b9f5d-3c63-467b-8959-35088a7a050f",
        "colab": {
          "base_uri": "https://localhost:8080/"
        }
      },
      "source": [
        "# download compiled octave package (latest)\n",
        "def get_CERRoctave(root_path):\n",
        "  os.chdir(root_path)\n",
        "  with urllib.request.urlopen(\"https://api.github.com/repos/cerr/octave-colab/releases/latest\") as url:\n",
        "      data = json.loads(url.read().decode())\n",
        "  fname = data['assets'][0]['name']\n",
        "  requrl = data['assets'][0]['browser_download_url']\n",
        "  urllib.request.urlretrieve(requrl, fname)\n",
        "  # unzip, identify octave folder name\n",
        "  !tar xf {fname}\n",
        "  top_folder = !tar tf {fname} | head -1\n",
        "  octave_folder = top_folder[0][:-1]\n",
        "  octave_path = os.path.join(root_path,octave_folder)\n",
        "  !git clone https://github.com/cerr/CERR.git\n",
        "  !cd CERR && git checkout octave_dev\n",
        "  cerr_path = os.path.join(root_path,'CERR')\n",
        "  return octave_path, cerr_path\n",
        "\n",
        "\n",
        "octave_path,cerr_path = get_CERRoctave('/content')\n",
        "os.environ['OCTAVE_EXECUTABLE'] = octave_path + '/bin/octave-cli'\n",
        "os.environ['PATH'] = octave_path + '/bin:' + os.environ['PATH']"
      ],
      "execution_count": 3,
      "outputs": [
        {
          "output_type": "stream",
          "name": "stdout",
          "text": [
            "Cloning into 'CERR'...\n",
            "remote: Enumerating objects: 29416, done.\u001b[K\n",
            "remote: Counting objects: 100% (5169/5169), done.\u001b[K\n",
            "remote: Compressing objects: 100% (1526/1526), done.\u001b[K\n",
            "remote: Total 29416 (delta 3745), reused 5038 (delta 3638), pack-reused 24247\u001b[K\n",
            "Receiving objects: 100% (29416/29416), 531.02 MiB | 42.54 MiB/s, done.\n",
            "Resolving deltas: 100% (20666/20666), done.\n",
            "Checking out files: 100% (3459/3459), done.\n",
            "Branch 'octave_dev' set up to track remote branch 'octave_dev' from 'origin'.\n",
            "Switched to a new branch 'octave_dev'\n"
          ]
        }
      ]
    },
    {
      "cell_type": "code",
      "metadata": {
        "id": "wva3u82JftrC"
      },
      "source": [
        "import oct2py\n",
        "import octave_kernel\n",
        "from oct2py import octave\n",
        "%load_ext oct2py.ipython"
      ],
      "execution_count": 4,
      "outputs": []
    },
    {
      "cell_type": "markdown",
      "metadata": {
        "id": "G-PqYT3GvhoS"
      },
      "source": [
        "Initialize Octave with oct2py bridge"
      ]
    },
    {
      "cell_type": "code",
      "metadata": {
        "id": "UWerGIsmXD2Z",
        "outputId": "885bfa62-95b0-41a8-887b-70bd05348d55",
        "colab": {
          "base_uri": "https://localhost:8080/",
          "height": 156
        }
      },
      "source": [
        "%%octave\n",
        "\n",
        "pkg load image\n",
        "pkg load io\n",
        "pkg load statistics\n",
        "\n",
        "warning('off','all')\n",
        "\n",
        "cerrPath = '/content/CERR'\n",
        "addpath(cerrPath);\n",
        "addToPath2(cerrPath);"
      ],
      "execution_count": 18,
      "outputs": [
        {
          "output_type": "display_data",
          "data": {
            "text/plain": [
              "cerrPath = /content/CERR"
            ]
          },
          "metadata": {}
        },
        {
          "output_type": "display_data",
          "data": {
            "text/plain": [
              "Adding to path ... /content/CERR/CERR_Data_Extraction"
            ]
          },
          "metadata": {}
        },
        {
          "output_type": "display_data",
          "data": {
            "text/plain": [
              "Adding to path ... /content/CERR/CERR_core"
            ]
          },
          "metadata": {}
        },
        {
          "output_type": "display_data",
          "data": {
            "text/plain": [
              "Adding to path ... /content/CERR/IMRTP"
            ]
          },
          "metadata": {}
        },
        {
          "output_type": "display_data",
          "data": {
            "text/plain": [
              "Adding to path ... /content/CERR/Jupyter_Notebooks"
            ]
          },
          "metadata": {}
        },
        {
          "output_type": "display_data",
          "data": {
            "text/plain": [
              "Adding to path ... /content/CERR/ML_Dicom"
            ]
          },
          "metadata": {}
        },
        {
          "output_type": "display_data",
          "data": {
            "text/plain": [
              "Adding to path ... /content/CERR/Python_packages"
            ]
          },
          "metadata": {}
        },
        {
          "output_type": "display_data",
          "data": {
            "text/plain": [
              "Adding to path ... /content/CERR/Unit_Testing"
            ]
          },
          "metadata": {}
        }
      ]
    }
  ]
}