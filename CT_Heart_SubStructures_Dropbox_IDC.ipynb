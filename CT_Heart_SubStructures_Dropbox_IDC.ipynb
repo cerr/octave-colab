{
  "nbformat": 4,
  "nbformat_minor": 0,
  "metadata": {
    "colab": {
      "name": "CT_Heart_SubStructures_Dropbox_IDC.ipynb",
      "provenance": [],
      "collapsed_sections": [],
      "authorship_tag": "ABX9TyMJ19MSMScG3fO+9WcUB0oK",
      "include_colab_link": true
    },
    "kernelspec": {
      "name": "python3",
      "display_name": "Python 3"
    },
    "language_info": {
      "name": "python"
    },
    "accelerator": "GPU"
  },
  "cells": [
    {
      "cell_type": "markdown",
      "metadata": {
        "id": "view-in-github",
        "colab_type": "text"
      },
      "source": [
        "<a href=\"https://colab.research.google.com/github/cerr/octave-colab/blob/master/CT_Heart_SubStructures_Dropbox_IDC.ipynb\" target=\"_parent\"><img src=\"https://colab.research.google.com/assets/colab-badge.svg\" alt=\"Open In Colab\"/></a>"
      ]
    },
    {
      "cell_type": "markdown",
      "metadata": {
        "id": "by-Fa16jsFL7"
      },
      "source": [
        "# Heart SubStructure CT Segmentation"
      ]
    },
    {
      "cell_type": "markdown",
      "metadata": {
        "id": "8cxydp--X9w1"
      },
      "source": [
        "### Download software and set up dependencies\n",
        "CERR, GNU Octave, condapack Python files, heart DeepLab segmentation network"
      ]
    },
    {
      "cell_type": "code",
      "metadata": {
        "id": "4XBqWkCSybGq"
      },
      "source": [
        "#Dropbox download URL\n",
        "condaenv_gz = ''\n",
        "heartdeeplab_gz = ''\n",
        "sampledata_mat = ''"
      ],
      "execution_count": 9,
      "outputs": []
    },
    {
      "cell_type": "code",
      "metadata": {
        "id": "7H-Kq-A6aUQB"
      },
      "source": [
        "import os, subprocess, urllib.request, json\n",
        "from glob import glob"
      ],
      "execution_count": 1,
      "outputs": []
    },
    {
      "cell_type": "code",
      "metadata": {
        "id": "9vIprC1MeVkI"
      },
      "source": [
        "%%capture\n",
        "! apt-get update\n",
        "! apt-get install libgraphicsmagick++1-dev libsuitesparse-dev libqrupdate1 libfftw3-3 gnuplot zsh\n",
        "! pip install oct2py octave_kernel"
      ],
      "execution_count": 2,
      "outputs": []
    },
    {
      "cell_type": "code",
      "metadata": {
        "id": "bA41jNJjZjF-"
      },
      "source": [
        "# download compiled octave package (latest)\n",
        "def get_CERRoctave(root_path):\n",
        "  os.chdir(root_path)\n",
        "  with urllib.request.urlopen(\"https://api.github.com/repos/cerr/octave-colab/releases/latest\") as url:\n",
        "      data = json.loads(url.read().decode())\n",
        "  fname = data['assets'][0]['name']\n",
        "  requrl = data['assets'][0]['browser_download_url']\n",
        "  urllib.request.urlretrieve(requrl, fname)\n",
        "  # unzip, identify octave folder name\n",
        "  !tar xf {fname}\n",
        "  top_folder = !tar tf {fname} | head -1\n",
        "  octave_folder = top_folder[0][:-1]\n",
        "  octave_path = os.path.join(root_path,octave_folder)\n",
        "  !git clone https://github.com/cerr/CERR.git\n",
        "  !cd CERR && git checkout octave_dev\n",
        "  cerr_path = os.path.join(root_path,'CERR')\n",
        "  return octave_path, cerr_path\n",
        "\n",
        "\n",
        "octave_path,cerr_path = get_CERRoctave('/content')\n",
        "os.environ['OCTAVE_EXECUTABLE'] = octave_path + '/bin/octave-cli'\n",
        "os.environ['PATH'] = octave_path + '/bin:' + os.environ['PATH']"
      ],
      "execution_count": 5,
      "outputs": []
    },
    {
      "cell_type": "code",
      "metadata": {
        "id": "wva3u82JftrC"
      },
      "source": [
        "import oct2py\n",
        "import octave_kernel\n",
        "from oct2py import octave\n",
        "%load_ext oct2py.ipython"
      ],
      "execution_count": null,
      "outputs": []
    },
    {
      "cell_type": "code",
      "metadata": {
        "id": "3ArdkJl5ecCG"
      },
      "source": [
        "%%capture\n",
        "!mkdir /content/{condaenv,data}\n",
        "!wget {condaenv_gz} -O /content/condaenv/CT_Heart_DeepLab_hdl35_linux.tar.gz && \\\n",
        "wget {heartdeeplab_gz} -O /content/condaenv/CT_Heart_DeepLab.tar.gz && \\\n",
        "wget {sampledata_mat} -O /content/data/sample_planC.mat"
      ],
      "execution_count": null,
      "outputs": []
    },
    {
      "cell_type": "code",
      "metadata": {
        "id": "1yQw94CSer84"
      },
      "source": [
        "%%capture\n",
        "gz_list = glob('/content/condaenv/*.tar.gz')\n",
        "for g in gz_list:\n",
        "  !tar xvf {g} --directory /content/condaenv"
      ],
      "execution_count": null,
      "outputs": []
    },
    {
      "cell_type": "markdown",
      "metadata": {
        "id": "G-PqYT3GvhoS"
      },
      "source": [
        "Initialize Octave with oct2py bridge"
      ]
    },
    {
      "cell_type": "code",
      "metadata": {
        "id": "UWerGIsmXD2Z"
      },
      "source": [
        "%%octave\n",
        "\n",
        "pkg load image\n",
        "pkg load io\n",
        "pkg load statistics\n",
        "\n",
        "warning('off','all')"
      ],
      "execution_count": null,
      "outputs": []
    },
    {
      "cell_type": "code",
      "metadata": {
        "id": "J_oG3mn0ih1B"
      },
      "source": [
        "cerrPath = r'/content/CERR'\n",
        "octave.addpath(cerrPath)\n",
        "octave.addToPath2(cerrPath)"
      ],
      "execution_count": null,
      "outputs": []
    },
    {
      "cell_type": "code",
      "metadata": {
        "id": "MnQ9-dKuyCIM"
      },
      "source": [
        "!rm -rf /content/sessions"
      ],
      "execution_count": null,
      "outputs": []
    },
    {
      "cell_type": "markdown",
      "metadata": {
        "id": "XJW88CiFzNiz"
      },
      "source": [
        "Run segmentation routine"
      ]
    },
    {
      "cell_type": "code",
      "metadata": {
        "id": "KJrM77gelL04"
      },
      "source": [
        "%%octave\n",
        "\n",
        "planCFileName = '/content/data/sample_planC.mat';\n",
        "\n",
        "sessionPath = '/content/sessions';\n",
        "cmdFlag = 'condaEnv';\n",
        "condaEnvName = '/content/condaenv';\n",
        "algorithm = 'CT_HeartSubStructures_DeepLab';\n",
        "wrapperFunction = '/content/condaenv/CT_Heart_DeepLab/model_wrapper/CT_HeartSubStructures_DeepLab/runSegHeartSubStructures.py';\n",
        "batchSize = 1;\n",
        "\n",
        "planC = loadPlanC(planCFileName);\n",
        "\n",
        "[activate_cmd,run_cmd,userOptS,outFile,scanNumV,planC] = prepDataForSeg(planC,sessionPath,algorithm,cmdFlag,condaEnvName, {wrapperFunction});\n",
        "[outStrListC,labelMapS] = getAutosegStructnames(userOptS);"
      ],
      "execution_count": null,
      "outputs": []
    },
    {
      "cell_type": "code",
      "metadata": {
        "id": "Iu9VRdDFtM9Z"
      },
      "source": [
        "%octave_pull outFile"
      ],
      "execution_count": null,
      "outputs": []
    },
    {
      "cell_type": "code",
      "metadata": {
        "id": "Ztp-mmLFuJXl"
      },
      "source": [
        "!chmod 777 {outFile}"
      ],
      "execution_count": null,
      "outputs": []
    },
    {
      "cell_type": "code",
      "metadata": {
        "id": "4z9QICznrr-E"
      },
      "source": [
        "q = subprocess.Popen(outFile,stdout=subprocess.PIPE,stderr=subprocess.PIPE)\n",
        "s=q.communicate()\n",
        "print(s)"
      ],
      "execution_count": null,
      "outputs": []
    },
    {
      "cell_type": "code",
      "metadata": {
        "id": "n3aAF796vPwr"
      },
      "source": [
        "%%octave\n",
        "planC = processAndImportSeg(planC,1,sessionPath,userOptS);"
      ],
      "execution_count": null,
      "outputs": []
    },
    {
      "cell_type": "markdown",
      "metadata": {
        "id": "clGzxXgbpXjK"
      },
      "source": [
        "Visualization"
      ]
    },
    {
      "cell_type": "code",
      "metadata": {
        "id": "BmiEISHGppxk"
      },
      "source": [
        "%%octave\n",
        "\n",
        "%Get scan array\n",
        "indexS = planC{end};\n",
        "scanNum = 1;\n",
        "ctOffset = planC{indexS.scan}(scanNum).scanInfo(1).CTOffset;\n",
        "scanArray = single(getScanArray(scanNum,planC)) - ctOffset;\n",
        "\n",
        "%Get structure labels & masks\n",
        "numStructs = length(planC{indexS.structures});\n",
        "structNameC = {planC{indexS.structures}.structureName};\n",
        "strNameC = outStrListC;\n",
        "for strNum = 1:length(strNameC)\n",
        "    strx = strNameC{strNum};\n",
        "    idx = getMatchingIndex(strx,structNameC,'EXACT');\n",
        "    mask3M = getStrMask(idx, planC);\n",
        "    maskC{strNum} = mask3M;\n",
        "end"
      ],
      "execution_count": null,
      "outputs": []
    },
    {
      "cell_type": "code",
      "metadata": {
        "id": "gW244SZep-Pb"
      },
      "source": [
        "%octave_pull maskC strNameC scanArray"
      ],
      "execution_count": null,
      "outputs": []
    },
    {
      "cell_type": "code",
      "metadata": {
        "id": "RCxayFkawnBL"
      },
      "source": [
        "import matplotlib.pyplot as plt\n",
        "import numpy as np\n",
        "from IPython.display import clear_output\n",
        "import ipywidgets as widgets\n",
        "\n",
        "dx, dy = 1, 1\n",
        "\n",
        "x = np.arange(0, 255, dx)\n",
        "y = np.arange(0, 255, dy)\n",
        "extent = np.min(x), np.max(x), np.min(y), np.max(y)\n",
        "\n",
        "clear_output(wait=True)\n",
        "\n",
        "def window_image(image, window_center, window_width):\n",
        "    img_min = window_center - window_width // 2\n",
        "    img_max = window_center + window_width // 2\n",
        "    window_image = image.copy()\n",
        "    window_image[window_image < img_min] = img_min\n",
        "    window_image[window_image > img_max] = img_max\n",
        "    \n",
        "    return window_image\n",
        "\n",
        "def show_axial_slice(slcNum):\n",
        "    clear_output(wait=True)\n",
        "    print('Slice '+str(slcNum))\n",
        "    if 'fig' in locals():\n",
        "        fig.remove()\n",
        "    fig, ax = plt.subplots()\n",
        "    window_center = 45\n",
        "    window_width = 125\n",
        "    windowed_img = window_image(scanArray[:,:,slcNum-1],\n",
        "                                window_center,window_width)\n",
        "    im1 = ax.imshow(windowed_img, cmap=plt.cm.gray, alpha=1,\n",
        "                    interpolation='nearest', extent=extent)\n",
        "    \n",
        "    cmaps = [plt.cm.Oranges,plt.cm.Oranges,plt.cm.Blues,plt.cm.Blues, \\\n",
        "             plt.cm.Purples,plt.cm.Greens]\n",
        "\n",
        "    for maskNum in range(0,6,1):\n",
        "        mask_cmap = cmaps[maskNum]\n",
        "        mask_cmap.set_under('k', alpha=0)\n",
        "        im2 = ax.imshow(maskC[0,maskNum][:,:,slcNum-1], \n",
        "                        cmap=mask_cmap, alpha=.8, extent=extent,\n",
        "                        interpolation='none', clim=[0.5, 1])        \n",
        "    plt.show()\n",
        "\n",
        "slice_slider = widgets.IntSlider(min=1,max=79,step=1)\n",
        "outputSlc = widgets.Output()\n",
        "\n",
        "display(slice_slider, outputSlc)\n",
        "\n",
        "def update_slice(change):\n",
        "    with outputSlc:\n",
        "        show_axial_slice(change['new'])\n",
        "\n",
        "slice_slider.observe(update_slice, names='value')\n"
      ],
      "execution_count": null,
      "outputs": []
    }
  ]
}