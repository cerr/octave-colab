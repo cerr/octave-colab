{
  "nbformat": 4,
  "nbformat_minor": 0,
  "metadata": {
    "colab": {
      "name": "npm_box_setup.ipynb",
      "provenance": [],
      "collapsed_sections": [],
      "include_colab_link": true
    },
    "kernelspec": {
      "name": "python3",
      "display_name": "Python 3"
    }
  },
  "cells": [
    {
      "cell_type": "markdown",
      "metadata": {
        "id": "view-in-github",
        "colab_type": "text"
      },
      "source": [
        "<a href=\"https://colab.research.google.com/github/locastre/octave-colab/blob/master/npm_box_setup.ipynb\" target=\"_parent\"><img src=\"https://colab.research.google.com/assets/colab-badge.svg\" alt=\"Open In Colab\"/></a>"
      ]
    },
    {
      "cell_type": "code",
      "metadata": {
        "id": "wcwY6oJ7ngcE",
        "colab_type": "code",
        "colab": {}
      },
      "source": [
        "import os"
      ],
      "execution_count": null,
      "outputs": []
    },
    {
      "cell_type": "code",
      "metadata": {
        "id": "RSdtDXeNOSY_",
        "colab_type": "code",
        "colab": {}
      },
      "source": [
        "! apt-get update"
      ],
      "execution_count": null,
      "outputs": []
    },
    {
      "cell_type": "code",
      "metadata": {
        "id": "6KGVpLawOb7m",
        "colab_type": "code",
        "colab": {}
      },
      "source": [
        "njsversion=\"v12.18.3\"\n",
        "njsdistro=\"linux-x64\"\n",
        "\n",
        "print(njsversion)"
      ],
      "execution_count": null,
      "outputs": []
    },
    {
      "cell_type": "code",
      "metadata": {
        "id": "A0F-eN2vOoha",
        "colab_type": "code",
        "colab": {}
      },
      "source": [
        "! mkdir -p /content/nodejs\n",
        "\n",
        "! wget https://nodejs.org/dist/{njsversion}/node-{njsversion}-{njsdistro}.tar.xz -O /content/node-{njsversion}-{njsdistro}.tar.xz\n",
        "! tar xvf /content/node-{njsversion}-{njsdistro}.tar.xz --directory /content/nodejs "
      ],
      "execution_count": null,
      "outputs": []
    },
    {
      "cell_type": "code",
      "metadata": {
        "id": "tJrL54ZiRmGA",
        "colab_type": "code",
        "colab": {}
      },
      "source": [
        "PTH = os.environ['PATH']\n",
        "os.environ['PATH'] = '/content/nodejs/node-' + njsversion + '-' + njsdistro + '/bin:' + PTH"
      ],
      "execution_count": null,
      "outputs": []
    },
    {
      "cell_type": "code",
      "metadata": {
        "id": "6bqFoN3gTO7G",
        "colab_type": "code",
        "colab": {}
      },
      "source": [
        "! npm install -g npm"
      ],
      "execution_count": null,
      "outputs": []
    },
    {
      "cell_type": "code",
      "metadata": {
        "id": "usPxzgxSSa5x",
        "colab_type": "code",
        "colab": {}
      },
      "source": [
        "! npm install --global @box/cli"
      ],
      "execution_count": null,
      "outputs": []
    },
    {
      "cell_type": "code",
      "metadata": {
        "id": "jbkW_NyO1KtE",
        "colab_type": "code",
        "colab": {}
      },
      "source": [
        "boxjson = '/content/639929994_1ebm58p8_config.json'\n",
        "! wget https://github.com/locastre/octave-colab/raw/master/639929994_1ebm58p8_config.json -O {boxjson}"
      ],
      "execution_count": null,
      "outputs": []
    },
    {
      "cell_type": "code",
      "metadata": {
        "id": "5YGJuWVTVAw-",
        "colab_type": "code",
        "colab": {}
      },
      "source": [
        "! box configure:environments:add {boxjson}"
      ],
      "execution_count": null,
      "outputs": []
    },
    {
      "cell_type": "code",
      "metadata": {
        "id": "FCqzIp_7y5zJ",
        "colab_type": "code",
        "colab": {}
      },
      "source": [
        "! box folders:get 0"
      ],
      "execution_count": null,
      "outputs": []
    },
    {
      "cell_type": "code",
      "metadata": {
        "id": "HSxT2kbZy72n",
        "colab_type": "code",
        "colab": {}
      },
      "source": [
        ""
      ],
      "execution_count": null,
      "outputs": []
    }
  ]
}