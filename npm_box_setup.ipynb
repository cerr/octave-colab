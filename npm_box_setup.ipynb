{
  "nbformat": 4,
  "nbformat_minor": 0,
  "metadata": {
    "colab": {
      "name": "npm_box_setup.ipynb",
      "provenance": [],
      "collapsed_sections": [],
      "include_colab_link": true
    },
    "kernelspec": {
      "name": "python3",
      "display_name": "Python 3"
    }
  },
  "cells": [
    {
      "cell_type": "markdown",
      "metadata": {
        "id": "view-in-github",
        "colab_type": "text"
      },
      "source": [
        "<a href=\"https://colab.research.google.com/github/locastre/octave-colab/blob/master/npm_box_setup.ipynb\" target=\"_parent\"><img src=\"https://colab.research.google.com/assets/colab-badge.svg\" alt=\"Open In Colab\"/></a>"
      ]
    },
    {
      "cell_type": "markdown",
      "metadata": {
        "id": "6ea9md5Wm3Z3",
        "colab_type": "text"
      },
      "source": [
        "# Implement your JSON Box credential file to the colab runtime\n",
        "1. Click on the \"folder\" button in the left-hand toolbar\n",
        "2. Drag the JSON file from your filesystem to the colab file listing\n",
        "3. Set the boxjson variable with the path to the JSON credential file"
      ]
    },
    {
      "cell_type": "code",
      "metadata": {
        "id": "wcwY6oJ7ngcE",
        "colab_type": "code",
        "colab": {}
      },
      "source": [
        "import os \n",
        "\n",
        "os.environ['boxjson'] = '/content/41315769_amhoznnk_config.json'"
      ],
      "execution_count": null,
      "outputs": []
    },
    {
      "cell_type": "code",
      "metadata": {
        "id": "RSdtDXeNOSY_",
        "colab_type": "code",
        "colab": {}
      },
      "source": [
        "! apt-get update"
      ],
      "execution_count": null,
      "outputs": []
    },
    {
      "cell_type": "code",
      "metadata": {
        "id": "6KGVpLawOb7m",
        "colab_type": "code",
        "colab": {}
      },
      "source": [
        "NJSVERSION='v12.18.3'\n",
        "NJSDISTRO='linux-x64'\n",
        "\n",
        "os.environ['NJSVERSION']=NJSVERSION\n",
        "os.environ['NJSDISTRO']=NJSDISTRO\n"
      ],
      "execution_count": null,
      "outputs": []
    },
    {
      "cell_type": "code",
      "metadata": {
        "id": "A0F-eN2vOoha",
        "colab_type": "code",
        "colab": {}
      },
      "source": [
        "! mkdir -p /content/nodejs\n",
        "! wget https://nodejs.org/dist/${NJSVERSION}/node-${NJSVERSION}-${NJSDISTRO}.tar.xz -O /content/node-${NJSVERSION}-${NJSDISTRO}.tar.xz\n",
        "! tar xvf /content/node-${NJSVERSION}-${NJSDISTRO}.tar.xz --directory /content/nodejs "
      ],
      "execution_count": null,
      "outputs": []
    },
    {
      "cell_type": "code",
      "metadata": {
        "id": "tJrL54ZiRmGA",
        "colab_type": "code",
        "colab": {}
      },
      "source": [
        "PTH = os.environ['PATH']\n",
        "os.environ['PATH'] = '/content/nodejs/node-' + NJSVERSION + '-' + NJSDISTRO + '/bin:' + PTH"
      ],
      "execution_count": null,
      "outputs": []
    },
    {
      "cell_type": "code",
      "metadata": {
        "id": "6bqFoN3gTO7G",
        "colab_type": "code",
        "colab": {}
      },
      "source": [
        "! npm install -g npm"
      ],
      "execution_count": null,
      "outputs": []
    },
    {
      "cell_type": "code",
      "metadata": {
        "id": "usPxzgxSSa5x",
        "colab_type": "code",
        "colab": {}
      },
      "source": [
        "! npm install --global @box/cli"
      ],
      "execution_count": null,
      "outputs": []
    },
    {
      "cell_type": "code",
      "metadata": {
        "id": "5YGJuWVTVAw-",
        "colab_type": "code",
        "colab": {}
      },
      "source": [
        "! box configure:environments:add $boxjson"
      ],
      "execution_count": null,
      "outputs": []
    }
  ]
}