{
  "nbformat": 4,
  "nbformat_minor": 0,
  "metadata": {
    "colab": {
      "name": "clean copy of build_octave5.2.ipynb",
      "provenance": [],
      "toc_visible": true,
      "authorship_tag": "ABX9TyNlMG87zslovwbGKRzhtZ3+",
      "include_colab_link": true
    },
    "kernelspec": {
      "name": "python3",
      "display_name": "Python 3"
    }
  },
  "cells": [
    {
      "cell_type": "markdown",
      "metadata": {
        "id": "view-in-github",
        "colab_type": "text"
      },
      "source": [
        "<a href=\"https://colab.research.google.com/github/locastre/octave-colab/blob/master/clean_copy_of_build_octave5_2.ipynb\" target=\"_parent\"><img src=\"https://colab.research.google.com/assets/colab-badge.svg\" alt=\"Open In Colab\"/></a>"
      ]
    },
    {
      "cell_type": "markdown",
      "metadata": {
        "id": "xs40aZdvCXQm",
        "colab_type": "text"
      },
      "source": [
        "References: https://wiki.octave.org/Building | https://wiki.octave.org/Octave_for_Debian_systems#The_right_way"
      ]
    },
    {
      "cell_type": "code",
      "metadata": {
        "id": "saCLa9GeI5fo",
        "colab_type": "code",
        "colab": {}
      },
      "source": [
        "!apt-get update"
      ],
      "execution_count": null,
      "outputs": []
    },
    {
      "cell_type": "markdown",
      "metadata": {
        "id": "Rd3v-GK8uDdf",
        "colab_type": "text"
      },
      "source": [
        "Install dependencies to make Octave v5.2.0"
      ]
    },
    {
      "cell_type": "code",
      "metadata": {
        "id": "VK6JeN3KJD5u",
        "colab_type": "code",
        "colab": {}
      },
      "source": [
        "!apt-get install gcc g++ gfortran make libblas-dev liblapack-dev libpcre3-dev libarpack2-dev libcurl4-gnutls-dev epstool libfftw3-dev transfig libfltk1.3-dev libfontconfig1-dev libfreetype6-dev libgl2ps-dev libglpk-dev libreadline-dev gnuplot-x11 libgraphicsmagick++1-dev libhdf5-serial-dev openjdk-8-jdk libsndfile1-dev llvm-dev lpr texinfo libgl1-mesa-dev libosmesa6-dev pstoedit portaudio19-dev libqhull-dev libqrupdate-dev libqscintilla2-dev libsuitesparse-dev texlive texlive-generic-recommended libxft-dev zlib1g-dev autoconf automake bison flex gperf gzip icoutils librsvg2-bin libtool perl rsync tar qtbase5-dev qttools5-dev qttools5-dev-tools libqscintilla2-qt5-dev wget git libsundials-dev gnuplot"
      ],
      "execution_count": null,
      "outputs": []
    },
    {
      "cell_type": "markdown",
      "metadata": {
        "id": "1oYxXx9NCP9h",
        "colab_type": "text"
      },
      "source": [
        "Create build and install location (\"prefix\")"
      ]
    },
    {
      "cell_type": "code",
      "metadata": {
        "id": "cgIXXYc7JTbp",
        "colab_type": "code",
        "colab": {}
      },
      "source": [
        "!mkdir build octave5.2"
      ],
      "execution_count": null,
      "outputs": []
    },
    {
      "cell_type": "markdown",
      "metadata": {
        "id": "j6-xuR2WCVMx",
        "colab_type": "text"
      },
      "source": [
        "Download & extract source files"
      ]
    },
    {
      "cell_type": "code",
      "metadata": {
        "id": "1pZ4qy4PJkNl",
        "colab_type": "code",
        "colab": {}
      },
      "source": [
        "!wget https://ftpmirror.gnu.org/octave/octave-5.2.0.tar.gz"
      ],
      "execution_count": null,
      "outputs": []
    },
    {
      "cell_type": "code",
      "metadata": {
        "id": "hj-PwZ9cKciG",
        "colab_type": "code",
        "colab": {}
      },
      "source": [
        "!tar -xzf octave-5.2.0.tar.gz"
      ],
      "execution_count": null,
      "outputs": []
    },
    {
      "cell_type": "markdown",
      "metadata": {
        "id": "9xulLYktCxKQ",
        "colab_type": "text"
      },
      "source": [
        "Change to working directory for build"
      ]
    },
    {
      "cell_type": "code",
      "metadata": {
        "id": "SAdsiCzBPNqa",
        "colab_type": "code",
        "colab": {}
      },
      "source": [
        "import os\n",
        "os.chdir('/content/build')\n",
        "os.getcwd()"
      ],
      "execution_count": null,
      "outputs": []
    },
    {
      "cell_type": "markdown",
      "metadata": {
        "id": "6hy8sW2NDPOi",
        "colab_type": "text"
      },
      "source": [
        "Configure, make & install"
      ]
    },
    {
      "cell_type": "code",
      "metadata": {
        "id": "6ur1v4wXQc69",
        "colab_type": "code",
        "colab": {}
      },
      "source": [
        "! ./../octave-5.2.0/configure --prefix=/content/octave5.2 JAVA_HOME=/usr/lib/jvm/java-1.8.0-openjdk-amd64"
      ],
      "execution_count": null,
      "outputs": []
    },
    {
      "cell_type": "code",
      "metadata": {
        "id": "RklQPO5NQgMm",
        "colab_type": "code",
        "colab": {}
      },
      "source": [
        "!make -j2"
      ],
      "execution_count": null,
      "outputs": []
    },
    {
      "cell_type": "code",
      "metadata": {
        "id": "mvBrHmr0Qub4",
        "colab_type": "code",
        "colab": {}
      },
      "source": [
        "!make install"
      ],
      "execution_count": null,
      "outputs": []
    },
    {
      "cell_type": "markdown",
      "metadata": {
        "id": "x7H745mVDRy3",
        "colab_type": "text"
      },
      "source": [
        "Install octave_kernel"
      ]
    },
    {
      "cell_type": "code",
      "metadata": {
        "id": "smeX9_ldRnr7",
        "colab_type": "code",
        "colab": {}
      },
      "source": [
        "!pip install oct2py"
      ],
      "execution_count": null,
      "outputs": []
    },
    {
      "cell_type": "code",
      "metadata": {
        "id": "3EHu5hpRRrwc",
        "colab_type": "code",
        "colab": {}
      },
      "source": [
        "os.environ['OCTAVE_EXECUTABLE'] = '/content/octave5.2/bin'"
      ],
      "execution_count": null,
      "outputs": []
    },
    {
      "cell_type": "code",
      "metadata": {
        "id": "kAm1xTk5SjXm",
        "colab_type": "code",
        "colab": {}
      },
      "source": [
        "os.environ['PATH'] = '/content/octave5.2/bin:' + os.environ['PATH']"
      ],
      "execution_count": null,
      "outputs": []
    },
    {
      "cell_type": "markdown",
      "metadata": {
        "id": "7haB_GV0Lp7w",
        "colab_type": "text"
      },
      "source": [
        "Install Octave Kernel module"
      ]
    },
    {
      "cell_type": "code",
      "metadata": {
        "id": "ywHjuLHkS9U_",
        "colab_type": "code",
        "colab": {}
      },
      "source": [
        "!pip install octave_kernel"
      ],
      "execution_count": null,
      "outputs": []
    },
    {
      "cell_type": "code",
      "metadata": {
        "id": "0EDNLLRvTeEl",
        "colab_type": "code",
        "colab": {}
      },
      "source": [
        "import octave_kernel"
      ],
      "execution_count": null,
      "outputs": []
    },
    {
      "cell_type": "markdown",
      "metadata": {
        "id": "-OSxc24GLtV0",
        "colab_type": "text"
      },
      "source": [
        "Alternative: install oct2py"
      ]
    },
    {
      "cell_type": "code",
      "metadata": {
        "id": "-G0ubTq4LvFF",
        "colab_type": "code",
        "colab": {}
      },
      "source": [
        "os.environ['OCTAVE_EXECUTABLE'] = '/content/octave5.2/bin/octave-cli'\n",
        "os.environ['PATH'] = '/content/octave5.2/bin:' + os.environ['PATH']\n",
        "import oct2py"
      ],
      "execution_count": null,
      "outputs": []
    },
    {
      "cell_type": "markdown",
      "metadata": {
        "id": "EisbWtyoF1A-",
        "colab_type": "text"
      },
      "source": [
        "Clone git repository"
      ]
    },
    {
      "cell_type": "code",
      "metadata": {
        "id": "q2ZUMoERFxNh",
        "colab_type": "code",
        "colab": {}
      },
      "source": [
        "os.chdir('/content')"
      ],
      "execution_count": null,
      "outputs": []
    },
    {
      "cell_type": "code",
      "metadata": {
        "id": "daCXf0LLF9Iz",
        "colab_type": "code",
        "colab": {}
      },
      "source": [
        "!git clone https://github.com/cerr/CERR.git"
      ],
      "execution_count": null,
      "outputs": []
    }
  ]
}
