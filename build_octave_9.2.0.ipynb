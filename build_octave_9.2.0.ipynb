{
  "nbformat": 4,
  "nbformat_minor": 0,
  "metadata": {
    "colab": {
      "name": "build_octave_9.2.0.ipynb",
      "provenance": []
    },
    "kernelspec": {
      "name": "python3",
      "display_name": "Python 3"
    }
  },
  "cells": [
    {
      "cell_type": "markdown",
      "metadata": {
        "id": "xs40aZdvCXQm"
      },
      "source": [
        "References: https://wiki.octave.org/Building | https://wiki.octave.org/Octave_for_Debian_systems#The_right_way"
      ]
    },
    {
      "cell_type": "markdown",
      "metadata": {
        "id": "j6-xuR2WCVMx"
      },
      "source": [
        "Download source files & build dependencies; build binaries"
      ]
    },
    {
      "cell_type": "code",
      "metadata": {
        "id": "VW35bVXrc8MX"
      },
      "source": [
        "%%capture\n",
        "%%bash\n",
        "apt-get update\n",
        "apt-get install gcc g++ gfortran make libblas-dev liblapack-dev libpcre3-dev libarpack2-dev libcurl4-gnutls-dev epstool libfftw3-dev transfig libfltk1.3-dev libfontconfig1-dev libfreetype6-dev libgl2ps-dev libglpk-dev libreadline-dev gnuplot-x11 libgraphicsmagick++1-dev libhdf5-serial-dev openjdk-8-jdk libsndfile1-dev llvm-dev lpr texinfo libgl1-mesa-dev libosmesa6-dev pstoedit portaudio19-dev libqhull-dev libqrupdate-dev libqscintilla2-dev libsuitesparse-dev texlive texlive-generic-recommended libxft-dev zlib1g-dev autoconf automake bison flex gperf gzip icoutils librsvg2-bin libtool perl rsync tar qtbase5-dev qttools5-dev qttools5-dev-tools libqscintilla2-qt5-dev wget git libsundials-dev gnuplot\n",
        "VER=9.2.0\n",
        "wget https://ftpmirror.gnu.org/octave/octave-${VER}.tar.gz\n",
        "tar xf octave-${VER}.tar.gz\n",
        "mkdir /content/build"
      ],
      "execution_count": null,
      "outputs": []
    },
    {
      "cell_type": "code",
      "source": [
        "!apt install -y gnuplot openjdk-11-jdk libsundials-dev libgraphicsmagick++1-dev libgl2ps-dev rapidjson-dev libfftw3-dev libglpk-dev libgraphicsmagick1-dev libcggl libfltk1.3-dev libqrupdate-dev"
      ],
      "metadata": {
        "id": "r-YE0ZmVEcsZ"
      },
      "execution_count": null,
      "outputs": []
    },
    {
      "cell_type": "code",
      "metadata": {
        "id": "mEl7De0FgZDN"
      },
      "source": [
        "! VER=9.2.0 && \\\n",
        "cd /content/build && \\\n",
        "./../octave-${VER}/configure --prefix=/content/octave JAVA_HOME=/usr/lib/jvm/java-11-openjdk-amd64 && \\\n",
        "make -j2 && \\\n",
        "make install"
      ],
      "execution_count": null,
      "outputs": []
    },
    {
      "cell_type": "markdown",
      "metadata": {
        "id": "x7H745mVDRy3"
      },
      "source": [
        "Install octave_kernel"
      ]
    },
    {
      "cell_type": "code",
      "source": [
        "! /content/octave/bin/octave-cli-9.2.0 --eval \"disp('hi'); quit\"\n",
        "! /content/octave/bin/octave-cli-9.2.0"
      ],
      "metadata": {
        "id": "6O5B8krKDYJT"
      },
      "execution_count": null,
      "outputs": []
    },
    {
      "cell_type": "code",
      "metadata": {
        "id": "smeX9_ldRnr7"
      },
      "source": [
        "!pip install oct2py"
      ],
      "execution_count": null,
      "outputs": []
    },
    {
      "cell_type": "code",
      "metadata": {
        "id": "lR_ZKrzLcMg-"
      },
      "source": [
        "import os\n",
        "ver = '9.2.0'\n",
        "os.environ['OCTAVE_EXECUTABLE'] = '/content/octave/bin'\n",
        "os.environ['PATH'] = '/content/octave' + ver + '/bin:' + os.environ['PATH']\n",
        "!pip install octave_kernel\n",
        "import octave_kernel oct2py\n",
        "from oct2py import octave\n",
        "os.environ['OCTAVE_EXECUTABLE'] = '/content/octave/bin/octave-cli'\n",
        "os.environ['PATH'] = '/content/octave/bin:' + os.environ['PATH']\n",
        "\n",
        "octave.eval('pkg install -forge io')\n",
        "octave.eval('pkg install -forge image')\n",
        "octave.eval('pkg install -forge statistics')"
      ],
      "execution_count": null,
      "outputs": []
    },
    {
      "cell_type": "code",
      "metadata": {
        "id": "q2ZUMoERFxNh"
      },
      "source": [
        "octave.eval('pkg list')"
      ],
      "execution_count": null,
      "outputs": []
    },
    {
      "cell_type": "code",
      "metadata": {
        "id": "wSyAUz8BgbiL"
      },
      "source": [
        "%%bash\n",
        "cd /content\n",
        "tar czvf octave-9.2.0_withpkgs_colab.tar.gz octave"
      ],
      "execution_count": null,
      "outputs": []
    },
    {
      "cell_type": "code",
      "source": [],
      "metadata": {
        "id": "dGIA0QwrvTps"
      },
      "execution_count": null,
      "outputs": []
    }
  ]
}